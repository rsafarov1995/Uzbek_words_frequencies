{
 "cells": [
  {
   "cell_type": "code",
   "execution_count": 1,
   "id": "8a576845-071b-43e7-8530-a34048bc4520",
   "metadata": {},
   "outputs": [
    {
     "name": "stderr",
     "output_type": "stream",
     "text": [
      "[nltk_data] Downloading package punkt to /home/jupyter-\n",
      "[nltk_data]     ruzmat/nltk_data...\n",
      "[nltk_data]   Package punkt is already up-to-date!\n"
     ]
    },
    {
     "data": {
      "text/plain": [
       "True"
      ]
     },
     "execution_count": 1,
     "metadata": {},
     "output_type": "execute_result"
    }
   ],
   "source": [
    "# import libraries\n",
    "import pandas as pd\n",
    "import collections\n",
    "import string\n",
    "import re\n",
    "import nltk\n",
    "from nltk.tokenize import RegexpTokenizer\n",
    "from nltk.tokenize import word_tokenize\n",
    "nltk.download('punkt')"
   ]
  },
  {
   "cell_type": "code",
   "execution_count": 2,
   "id": "7aa7c166-bf9a-42c2-994c-884a34e0891e",
   "metadata": {},
   "outputs": [],
   "source": [
    "input = open(\"kun_malumotlari.txt\", 'r', encoding=\"utf8\")\n",
    "df = input.read()"
   ]
  },
  {
   "cell_type": "code",
   "execution_count": 3,
   "id": "fc755afa-f424-4385-8799-f964d4fc0237",
   "metadata": {},
   "outputs": [],
   "source": [
    "def tokenize(text):\n",
    "    text = text.lower()\n",
    "    newtext = re.sub(r'[0-9]+', '', text)\n",
    "    tokenizer = RegexpTokenizer(r\"[\\d]+|[\\w-]+\")\n",
    "    df1 = tokenizer.tokenize(newtext)\n",
    "    return df1"
   ]
  },
  {
   "cell_type": "code",
   "execution_count": 4,
   "id": "e2a2b17d-ed51-4ab1-a2ff-cdd36e28e036",
   "metadata": {},
   "outputs": [],
   "source": [
    "df2 = tokenize(df)"
   ]
  },
  {
   "cell_type": "code",
   "execution_count": 5,
   "id": "4c293746-f8b6-42b1-b8da-ab37651431bb",
   "metadata": {},
   "outputs": [],
   "source": [
    "def collect_frequencies(text):\n",
    "    tf_text = collections.Counter (text)\n",
    "    for i in tf_text:\n",
    "        tf_text [i] = tf_text [i]\n",
    "    df3 = pd.DataFrame.from_dict( tf_text, orient='index').reset_index()\n",
    "    df3.rename(columns={\"index\":\"words\"}, inplace = True)\n",
    "    df3.rename(columns={0:\"frequencies\"}, inplace = True)\n",
    "    df4 = df3.sort_values(by=['frequencies'], ascending=False)\n",
    "    return df4"
   ]
  },
  {
   "cell_type": "code",
   "execution_count": 6,
   "id": "e9b3e236-2b9c-4eb1-a64d-cc9a82660473",
   "metadata": {},
   "outputs": [],
   "source": [
    "df5 = collect_frequencies(df2)"
   ]
  },
  {
   "cell_type": "code",
   "execution_count": 7,
   "id": "81ed153d-b235-45eb-9a16-c5e437f0a506",
   "metadata": {},
   "outputs": [],
   "source": [
    "df5.to_csv('words_frequencies_500mb.csv' , index=False)"
   ]
  },
  {
   "cell_type": "code",
   "execution_count": 8,
   "id": "d16a261f-3ed2-4eff-aac0-9ac0a5fc53e0",
   "metadata": {},
   "outputs": [],
   "source": [
    "data = pd.read_csv('words_frequencies_500mb.csv')"
   ]
  },
  {
   "cell_type": "code",
   "execution_count": 9,
   "id": "0eec2795-dc54-4e81-9255-c905d16602fe",
   "metadata": {},
   "outputs": [
    {
     "data": {
      "text/html": [
       "<div>\n",
       "<style scoped>\n",
       "    .dataframe tbody tr th:only-of-type {\n",
       "        vertical-align: middle;\n",
       "    }\n",
       "\n",
       "    .dataframe tbody tr th {\n",
       "        vertical-align: top;\n",
       "    }\n",
       "\n",
       "    .dataframe thead th {\n",
       "        text-align: right;\n",
       "    }\n",
       "</style>\n",
       "<table border=\"1\" class=\"dataframe\">\n",
       "  <thead>\n",
       "    <tr style=\"text-align: right;\">\n",
       "      <th></th>\n",
       "      <th>words</th>\n",
       "      <th>frequencies</th>\n",
       "    </tr>\n",
       "  </thead>\n",
       "  <tbody>\n",
       "    <tr>\n",
       "      <th>0</th>\n",
       "      <td>ва</td>\n",
       "      <td>838868</td>\n",
       "    </tr>\n",
       "    <tr>\n",
       "      <th>1</th>\n",
       "      <td>билан</td>\n",
       "      <td>365583</td>\n",
       "    </tr>\n",
       "    <tr>\n",
       "      <th>2</th>\n",
       "      <td>бу</td>\n",
       "      <td>268851</td>\n",
       "    </tr>\n",
       "    <tr>\n",
       "      <th>3</th>\n",
       "      <td>учун</td>\n",
       "      <td>268022</td>\n",
       "    </tr>\n",
       "    <tr>\n",
       "      <th>4</th>\n",
       "      <td>ҳам</td>\n",
       "      <td>213370</td>\n",
       "    </tr>\n",
       "    <tr>\n",
       "      <th>...</th>\n",
       "      <td>...</td>\n",
       "      <td>...</td>\n",
       "    </tr>\n",
       "    <tr>\n",
       "      <th>671869</th>\n",
       "      <td>tex-yunol-servis</td>\n",
       "      <td>1</td>\n",
       "    </tr>\n",
       "    <tr>\n",
       "      <th>671870</th>\n",
       "      <td>арашалуви</td>\n",
       "      <td>1</td>\n",
       "    </tr>\n",
       "    <tr>\n",
       "      <th>671871</th>\n",
       "      <td>алимжанованинг</td>\n",
       "      <td>1</td>\n",
       "    </tr>\n",
       "    <tr>\n",
       "      <th>671872</th>\n",
       "      <td>перикардиал</td>\n",
       "      <td>1</td>\n",
       "    </tr>\n",
       "    <tr>\n",
       "      <th>671873</th>\n",
       "      <td>рекаламалар</td>\n",
       "      <td>1</td>\n",
       "    </tr>\n",
       "  </tbody>\n",
       "</table>\n",
       "<p>671874 rows × 2 columns</p>\n",
       "</div>"
      ],
      "text/plain": [
       "                   words  frequencies\n",
       "0                     ва       838868\n",
       "1                  билан       365583\n",
       "2                     бу       268851\n",
       "3                   учун       268022\n",
       "4                    ҳам       213370\n",
       "...                  ...          ...\n",
       "671869  tex-yunol-servis            1\n",
       "671870         арашалуви            1\n",
       "671871    алимжанованинг            1\n",
       "671872       перикардиал            1\n",
       "671873       рекаламалар            1\n",
       "\n",
       "[671874 rows x 2 columns]"
      ]
     },
     "execution_count": 9,
     "metadata": {},
     "output_type": "execute_result"
    }
   ],
   "source": [
    "data"
   ]
  },
  {
   "cell_type": "code",
   "execution_count": null,
   "id": "27dbcc16-316e-4409-89cb-a0d39b1abddc",
   "metadata": {},
   "outputs": [],
   "source": []
  }
 ],
 "metadata": {
  "kernelspec": {
   "display_name": "Python 3 (ipykernel)",
   "language": "python",
   "name": "python3"
  },
  "language_info": {
   "codemirror_mode": {
    "name": "ipython",
    "version": 3
   },
   "file_extension": ".py",
   "mimetype": "text/x-python",
   "name": "python",
   "nbconvert_exporter": "python",
   "pygments_lexer": "ipython3",
   "version": "3.9.7"
  }
 },
 "nbformat": 4,
 "nbformat_minor": 5
}
